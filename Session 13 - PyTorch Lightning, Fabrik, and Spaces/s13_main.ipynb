{
 "cells": [
  {
   "cell_type": "code",
   "execution_count": 1,
   "metadata": {},
   "outputs": [
    {
     "name": "stdout",
     "output_type": "stream",
     "text": [
      "fatal: destination path 'erav2master' already exists and is not an empty directory.\n"
     ]
    }
   ],
   "source": [
    "!git clone https://github.com/karthajee/erav2master.git"
   ]
  },
  {
   "cell_type": "code",
   "execution_count": 2,
   "metadata": {},
   "outputs": [],
   "source": [
    "from erav2master.models import assignment13\n",
    "from erav2master.utils import *\n",
    "NUM_EPOCHS = 20"
   ]
  },
  {
   "cell_type": "code",
   "execution_count": 3,
   "metadata": {},
   "outputs": [],
   "source": [
    "import lightning.pytorch as L\n",
    "import torch\n",
    "import torch.nn as nn\n",
    "import torch.nn.functional as F\n",
    "from torchmetrics import Accuracy\n",
    "from torch.utils.data import random_split, DataLoader\n",
    "import albumentations as A\n",
    "from albumentations.pytorch import ToTensorV2\n",
    "import multiprocessing\n",
    "\n",
    "class BasicBlock(nn.Module):\n",
    "\n",
    "    expansion = 1\n",
    "\n",
    "    def __init__(self, in_planes, planes, stride=1):\n",
    "        super(BasicBlock, self).__init__()\n",
    "        self.conv1 = nn.Conv2d(\n",
    "            in_planes, planes, kernel_size=3, stride=stride, padding=1, bias=False)\n",
    "        self.bn1 = nn.BatchNorm2d(planes)\n",
    "        self.conv2 = nn.Conv2d(planes, planes, kernel_size=3,\n",
    "                            stride=1, padding=1, bias=False)\n",
    "        self.bn2 = nn.BatchNorm2d(planes)\n",
    "\n",
    "        self.shortcut = nn.Sequential()\n",
    "        if stride != 1 or in_planes != self.expansion*planes:\n",
    "            self.shortcut = nn.Sequential(\n",
    "                nn.Conv2d(in_planes, self.expansion*planes,\n",
    "                        kernel_size=1, stride=stride, bias=False),\n",
    "                nn.BatchNorm2d(self.expansion*planes)\n",
    "            )\n",
    "\n",
    "    def forward(self, x):\n",
    "        out = F.relu(self.bn1(self.conv1(x)))\n",
    "        out = self.bn2(self.conv2(out))\n",
    "        out += self.shortcut(x)\n",
    "        out = F.relu(out)\n",
    "        return out\n",
    "    \n",
    "\n",
    "\n",
    "class LitResnet(L.LightningModule):\n",
    "\n",
    "    def __init__(self, block, num_blocks, lr=0.01):\n",
    "\n",
    "        super().__init__()\n",
    "        \n",
    "        # Hardcoding certain values     \n",
    "        self.num_classes=10                           \n",
    "        self.accuracy = Accuracy(task='multiclass', num_classes=self.num_classes)\n",
    "        self.learning_rate = lr\n",
    "\n",
    "        # Model code        \n",
    "        self.in_planes = 64\n",
    "        self.conv1 = nn.Conv2d(3, 64, kernel_size=3,\n",
    "                               stride=1, padding=1, bias=False)\n",
    "        self.bn1 = nn.BatchNorm2d(64)\n",
    "        self.layer1 = self._make_layer(block, 64, num_blocks[0], stride=1)\n",
    "        self.layer2 = self._make_layer(block, 128, num_blocks[1], stride=2)\n",
    "        self.layer3 = self._make_layer(block, 256, num_blocks[2], stride=2)\n",
    "        self.layer4 = self._make_layer(block, 512, num_blocks[3], stride=2)\n",
    "        self.linear = nn.Linear(512*block.expansion, self.num_classes)\n",
    "\n",
    "    def _make_layer(self, block, planes, num_blocks, stride):\n",
    "        strides = [stride] + [1]*(num_blocks-1)\n",
    "        layers = []\n",
    "        for stride in strides:\n",
    "            layers.append(block(self.in_planes, planes, stride))\n",
    "            self.in_planes = planes * block.expansion\n",
    "        return nn.Sequential(*layers)    \n",
    "    \n",
    "    def forward(self, x):\n",
    "        out = F.relu(self.bn1(self.conv1(x)))\n",
    "        out = self.layer1(out)\n",
    "        out = self.layer2(out)\n",
    "        out = self.layer3(out)\n",
    "        out = self.layer4(out)\n",
    "        out = F.avg_pool2d(out, 4)\n",
    "        out = out.view(out.size(0), -1)\n",
    "        out = self.linear(out)        \n",
    "        return out\n",
    "    \n",
    "    def training_step(self, batch, batch_idx):\n",
    "        x, y = batch\n",
    "        logits = self(x)\n",
    "        loss = F.cross_entropy(logits, y)\n",
    "        return loss\n",
    "    \n",
    "    def validation_step(self, batch, batch_idx):\n",
    "        x, y = batch\n",
    "        logits = self(x)\n",
    "        loss = F.cross_entropy(logits, y)\n",
    "        preds = torch.argmax(logits, dim=-1)\n",
    "        \n",
    "        # Add logging\n",
    "        self.accuracy(y, preds)\n",
    "        self.log('val_loss_step', loss, prog_bar=True)\n",
    "        self.log('val_acc_step', self.accuracy, prog_bar=True)\n",
    "\n",
    "    def test_step(self, batch, batch_idx):\n",
    "        x, y = batch\n",
    "        logits = self(x)\n",
    "        loss = F.cross_entropy(logits, y)\n",
    "        preds = torch.argmax(logits, dim=-1)\n",
    "        \n",
    "        # Add logging\n",
    "        self.accuracy(y, preds)\n",
    "        self.log('test_loss_step', loss, prog_bar=True)\n",
    "        self.log('test_acc_step', self.accuracy, prog_bar=True)\n",
    "    \n",
    "    def configure_optimizers(self):\n",
    "        optimizer = torch.optim.Adam(self.parameters(), lr=self.learning_rate)\n",
    "        scheduler = torch.optim.lr_scheduler.OneCycleLR(optimizer, max_lr=self.learning_rate, \n",
    "                total_steps=self.trainer.estimated_stepping_batches, div_factor=100, \n",
    "                final_div_factor=100, pct_start=0.3, anneal_strategy='linear', three_phase=False)\n",
    "        return [optimizer], [scheduler]        \n",
    "\n",
    "def ResNet18():\n",
    "    return LitResnet(BasicBlock, [2, 2, 2, 2])"
   ]
  },
  {
   "cell_type": "code",
   "execution_count": 4,
   "metadata": {},
   "outputs": [],
   "source": [
    "# Defining the DataModule\n",
    "class CIFAR10Module(L.LightningDataModule):\n",
    "\n",
    "    def __init__(self):\n",
    "        super().__init__()\n",
    "        self.data_dir = '.'\n",
    "        self.means = (0.49139968, 0.48215827 ,0.44653124)\n",
    "        self.stds = (0.24703233, 0.24348505, 0.26158768)\n",
    "        train_transform_A = A.Compose(\n",
    "            [\n",
    "                A.Normalize(mean=self.means, std=self.stds, always_apply=True),\n",
    "                A.PadIfNeeded(min_height=40, min_width=40, always_apply=True),\n",
    "                A.RandomCrop(width=32, height=32, always_apply=True),\n",
    "                A.CoarseDropout(max_holes=1, max_height=16, max_width=16, min_holes=1,\n",
    "                                min_height=16, min_width=16, fill_value=self.means, mask_fill_value=None),\n",
    "                ToTensorV2()\n",
    "            ]\n",
    "        )\n",
    "        test_transform_A = A.Compose(\n",
    "            [\n",
    "                A.Normalize(mean=self.means, std=self.stds, always_apply=True),\n",
    "                ToTensorV2()\n",
    "            ]\n",
    "        )\n",
    "        self.train_transform = lambda x : train_transform_A(image=np.array(x))['image']\n",
    "        self.test_transform = lambda x : test_transform_A(image=np.array(x))['image']\n",
    "        self.num_workers = get_avail_cpu_cores()\n",
    "        self.batch_size = 512\n",
    "        self.pin_memory = True        \n",
    "\n",
    "    def prepare_data(self):\n",
    "        datasets.CIFAR10(root=self.data_dir, download=True, train=True)\n",
    "        datasets.CIFAR10(root=self.data_dir, download=True, train=False)\n",
    "    \n",
    "    def setup(self, stage=None):\n",
    "\n",
    "        if stage == 'fit' or stage is None:\n",
    "            train_dset = datasets.CIFAR10(root=self.data_dir, train=True, transform=self.train_transform)\n",
    "            self.cifar10_train, self.cifar10_val = random_split(train_dset, [0.8, 0.2])\n",
    "        else:\n",
    "            self.cifar10_test = datasets.CIFAR10(root=self.data_dir, train=False, transform=self.test_transform)\n",
    "            \n",
    "    def train_dataloader(self):\n",
    "        return DataLoader(self.cifar10_train, batch_size=self.batch_size,\n",
    "                            shuffle=True, pin_memory=self.pin_memory, \n",
    "                            num_workers=self.num_workers, multiprocessing_context='fork')\n",
    "\n",
    "    def val_dataloader(self):\n",
    "        return DataLoader(self.cifar10_val, batch_size=self.batch_size,\n",
    "                            shuffle=False, pin_memory=self.pin_memory, \n",
    "                            num_workers=self.num_workers, multiprocessing_context='fork')\n",
    "\n",
    "    def test_dataloader(self):\n",
    "        return DataLoader(self.cifar10_test, batch_size=self.batch_size,\n",
    "                            shuffle=False, pin_memory=self.pin_memory, \n",
    "                            num_workers=self.num_workers, multiprocessing_context='fork')"
   ]
  },
  {
   "cell_type": "code",
   "execution_count": 4,
   "metadata": {},
   "outputs": [
    {
     "name": "stderr",
     "output_type": "stream",
     "text": [
      "GPU available: True (mps), used: True\n",
      "TPU available: False, using: 0 TPU cores\n",
      "IPU available: False, using: 0 IPUs\n",
      "HPU available: False, using: 0 HPUs\n"
     ]
    }
   ],
   "source": [
    "model = ResNet18()\n",
    "callbacks_l = [L.callbacks.LearningRateFinder(min_lr=1e-5, max_lr=10, num_training_steps=200)]\n",
    "trainer = L.Trainer(callbacks=callbacks_l, accelerator='mps', max_epochs=NUM_EPOCHS, enable_progress_bar=True)\n",
    "\n",
    "# tuner = L.pytorch.tuner.tuning.Tuner(trainer)\n",
    "# lr_finder = tuner.lr_find(model, min_lr=1e-4, max_lr=10, num_training=20)\n",
    "# # Results can be found in\n",
    "# print(lr_finder.results)\n",
    "\n",
    "# # Plot with\n",
    "# fig = lr_finder.plot(suggest=True)\n",
    "# fig.show()\n",
    "\n",
    "# # Pick point based on plot, or get suggestion\n",
    "# new_lr = lr_finder.suggestion()\n",
    "# print(new_lr)\n",
    "# fig"
   ]
  },
  {
   "cell_type": "code",
   "execution_count": 5,
   "metadata": {},
   "outputs": [
    {
     "name": "stdout",
     "output_type": "stream",
     "text": [
      "Files already downloaded and verified\n",
      "Files already downloaded and verified\n"
     ]
    },
    {
     "name": "stderr",
     "output_type": "stream",
     "text": [
      "Loading `train_dataloader` to estimate number of stepping batches.\n"
     ]
    },
    {
     "data": {
      "application/vnd.jupyter.widget-view+json": {
       "model_id": "8134e8fefafd48a1bd1aa9ede8085ac5",
       "version_major": 2,
       "version_minor": 0
      },
      "text/plain": [
       "Finding best initial lr:   0%|          | 0/200 [00:00<?, ?it/s]"
      ]
     },
     "metadata": {},
     "output_type": "display_data"
    },
    {
     "name": "stderr",
     "output_type": "stream",
     "text": [
      "LR finder stopped early after 184 steps due to diverging loss.\n",
      "Learning rate set to 4.897788193684463e-05\n",
      "Restoring states from the checkpoint path at /Users/karthajee/Documents/0_projects/ERAV2/ERAV2assignments/Session 13 - PyTorch Lightning, Fabrik, and Spaces/.lr_find_d1b732c9-1ca9-4eef-8265-b07af05ca2d5.ckpt\n",
      "Restored all states from the checkpoint at /Users/karthajee/Documents/0_projects/ERAV2/ERAV2assignments/Session 13 - PyTorch Lightning, Fabrik, and Spaces/.lr_find_d1b732c9-1ca9-4eef-8265-b07af05ca2d5.ckpt\n",
      "\n",
      "  | Name     | Type               | Params\n",
      "------------------------------------------------\n",
      "0 | accuracy | MulticlassAccuracy | 0     \n",
      "1 | conv1    | Conv2d             | 1.7 K \n",
      "2 | bn1      | BatchNorm2d        | 128   \n",
      "3 | layer1   | Sequential         | 147 K \n",
      "4 | layer2   | Sequential         | 525 K \n",
      "5 | layer3   | Sequential         | 2.1 M \n",
      "6 | layer4   | Sequential         | 8.4 M \n",
      "7 | linear   | Linear             | 5.1 K \n",
      "------------------------------------------------\n",
      "11.2 M    Trainable params\n",
      "0         Non-trainable params\n",
      "11.2 M    Total params\n",
      "44.696    Total estimated model params size (MB)\n",
      "Restored all states from the checkpoint at /Users/karthajee/Documents/0_projects/ERAV2/ERAV2assignments/Session 13 - PyTorch Lightning, Fabrik, and Spaces/.lr_find_d1b732c9-1ca9-4eef-8265-b07af05ca2d5.ckpt\n"
     ]
    },
    {
     "data": {
      "application/vnd.jupyter.widget-view+json": {
       "model_id": "15e6ce70ef2945baa404bd869be26a9d",
       "version_major": 2,
       "version_minor": 0
      },
      "text/plain": [
       "Sanity Checking: |          | 0/? [00:00<?, ?it/s]"
      ]
     },
     "metadata": {},
     "output_type": "display_data"
    },
    {
     "data": {
      "application/vnd.jupyter.widget-view+json": {
       "model_id": "71e801181b5a4ddbad6fe49fb55cc183",
       "version_major": 2,
       "version_minor": 0
      },
      "text/plain": [
       "Training: |          | 0/? [00:00<?, ?it/s]"
      ]
     },
     "metadata": {},
     "output_type": "display_data"
    },
    {
     "data": {
      "application/vnd.jupyter.widget-view+json": {
       "model_id": "ea251bc58fae4af09ed3c6b77fcd44b7",
       "version_major": 2,
       "version_minor": 0
      },
      "text/plain": [
       "Validation: |          | 0/? [00:00<?, ?it/s]"
      ]
     },
     "metadata": {},
     "output_type": "display_data"
    },
    {
     "data": {
      "application/vnd.jupyter.widget-view+json": {
       "model_id": "6f1b0685431745ceaa8b390a89fedd7d",
       "version_major": 2,
       "version_minor": 0
      },
      "text/plain": [
       "Validation: |          | 0/? [00:00<?, ?it/s]"
      ]
     },
     "metadata": {},
     "output_type": "display_data"
    },
    {
     "data": {
      "application/vnd.jupyter.widget-view+json": {
       "model_id": "57b83d0e8356457a91c2cb9235abb816",
       "version_major": 2,
       "version_minor": 0
      },
      "text/plain": [
       "Validation: |          | 0/? [00:00<?, ?it/s]"
      ]
     },
     "metadata": {},
     "output_type": "display_data"
    },
    {
     "data": {
      "application/vnd.jupyter.widget-view+json": {
       "model_id": "917312b124a246f08b2d6bceaffddf24",
       "version_major": 2,
       "version_minor": 0
      },
      "text/plain": [
       "Validation: |          | 0/? [00:00<?, ?it/s]"
      ]
     },
     "metadata": {},
     "output_type": "display_data"
    },
    {
     "data": {
      "application/vnd.jupyter.widget-view+json": {
       "model_id": "6106d56c1fd04a0eb956d01c33dc3e3c",
       "version_major": 2,
       "version_minor": 0
      },
      "text/plain": [
       "Validation: |          | 0/? [00:00<?, ?it/s]"
      ]
     },
     "metadata": {},
     "output_type": "display_data"
    },
    {
     "data": {
      "application/vnd.jupyter.widget-view+json": {
       "model_id": "071a96da3bb84d048e7d8c931148d5e0",
       "version_major": 2,
       "version_minor": 0
      },
      "text/plain": [
       "Validation: |          | 0/? [00:00<?, ?it/s]"
      ]
     },
     "metadata": {},
     "output_type": "display_data"
    },
    {
     "data": {
      "application/vnd.jupyter.widget-view+json": {
       "model_id": "2d03f8782c2749c0bc4780f007d08cf6",
       "version_major": 2,
       "version_minor": 0
      },
      "text/plain": [
       "Validation: |          | 0/? [00:00<?, ?it/s]"
      ]
     },
     "metadata": {},
     "output_type": "display_data"
    },
    {
     "data": {
      "application/vnd.jupyter.widget-view+json": {
       "model_id": "5edadad6291f43aeb984a72d2634ef8e",
       "version_major": 2,
       "version_minor": 0
      },
      "text/plain": [
       "Validation: |          | 0/? [00:00<?, ?it/s]"
      ]
     },
     "metadata": {},
     "output_type": "display_data"
    },
    {
     "data": {
      "application/vnd.jupyter.widget-view+json": {
       "model_id": "87bc462d1a2041c5acefb6d6fef79710",
       "version_major": 2,
       "version_minor": 0
      },
      "text/plain": [
       "Validation: |          | 0/? [00:00<?, ?it/s]"
      ]
     },
     "metadata": {},
     "output_type": "display_data"
    },
    {
     "data": {
      "application/vnd.jupyter.widget-view+json": {
       "model_id": "9e9221e5d8ce4f07ad3b9ec797b32d42",
       "version_major": 2,
       "version_minor": 0
      },
      "text/plain": [
       "Validation: |          | 0/? [00:00<?, ?it/s]"
      ]
     },
     "metadata": {},
     "output_type": "display_data"
    },
    {
     "data": {
      "application/vnd.jupyter.widget-view+json": {
       "model_id": "5b94d1394afc48f5b65c4765995a9d1c",
       "version_major": 2,
       "version_minor": 0
      },
      "text/plain": [
       "Validation: |          | 0/? [00:00<?, ?it/s]"
      ]
     },
     "metadata": {},
     "output_type": "display_data"
    },
    {
     "data": {
      "application/vnd.jupyter.widget-view+json": {
       "model_id": "ec989cc2ed21448c8ffce43500b26683",
       "version_major": 2,
       "version_minor": 0
      },
      "text/plain": [
       "Validation: |          | 0/? [00:00<?, ?it/s]"
      ]
     },
     "metadata": {},
     "output_type": "display_data"
    },
    {
     "data": {
      "application/vnd.jupyter.widget-view+json": {
       "model_id": "57d6ee7f9dd142a29803c066a06fc5b5",
       "version_major": 2,
       "version_minor": 0
      },
      "text/plain": [
       "Validation: |          | 0/? [00:00<?, ?it/s]"
      ]
     },
     "metadata": {},
     "output_type": "display_data"
    },
    {
     "data": {
      "application/vnd.jupyter.widget-view+json": {
       "model_id": "56bb6cc61e364b6f89001b6c93e9e670",
       "version_major": 2,
       "version_minor": 0
      },
      "text/plain": [
       "Validation: |          | 0/? [00:00<?, ?it/s]"
      ]
     },
     "metadata": {},
     "output_type": "display_data"
    },
    {
     "data": {
      "application/vnd.jupyter.widget-view+json": {
       "model_id": "28d4ef334c544685b2e690924d022c49",
       "version_major": 2,
       "version_minor": 0
      },
      "text/plain": [
       "Validation: |          | 0/? [00:00<?, ?it/s]"
      ]
     },
     "metadata": {},
     "output_type": "display_data"
    },
    {
     "data": {
      "application/vnd.jupyter.widget-view+json": {
       "model_id": "6689f5391d13470b8c20d0b72d04b40d",
       "version_major": 2,
       "version_minor": 0
      },
      "text/plain": [
       "Validation: |          | 0/? [00:00<?, ?it/s]"
      ]
     },
     "metadata": {},
     "output_type": "display_data"
    },
    {
     "data": {
      "application/vnd.jupyter.widget-view+json": {
       "model_id": "1069e834ff7d43cd8bf49e4453b1bbed",
       "version_major": 2,
       "version_minor": 0
      },
      "text/plain": [
       "Validation: |          | 0/? [00:00<?, ?it/s]"
      ]
     },
     "metadata": {},
     "output_type": "display_data"
    },
    {
     "data": {
      "application/vnd.jupyter.widget-view+json": {
       "model_id": "bece9209c4664bb0a6a1caa921405780",
       "version_major": 2,
       "version_minor": 0
      },
      "text/plain": [
       "Validation: |          | 0/? [00:00<?, ?it/s]"
      ]
     },
     "metadata": {},
     "output_type": "display_data"
    },
    {
     "data": {
      "application/vnd.jupyter.widget-view+json": {
       "model_id": "c8cdd0f03ce943ec9635faf7b51ff5c2",
       "version_major": 2,
       "version_minor": 0
      },
      "text/plain": [
       "Validation: |          | 0/? [00:00<?, ?it/s]"
      ]
     },
     "metadata": {},
     "output_type": "display_data"
    },
    {
     "name": "stderr",
     "output_type": "stream",
     "text": [
      "`Trainer.fit` stopped: `max_epochs=20` reached.\n"
     ]
    }
   ],
   "source": [
    "trainer.fit(model)"
   ]
  },
  {
   "cell_type": "code",
   "execution_count": 6,
   "metadata": {},
   "outputs": [
    {
     "name": "stderr",
     "output_type": "stream",
     "text": [
      "/Users/karthajee/opt/anaconda3/envs/erav2/lib/python3.10/site-packages/lightning/pytorch/trainer/connectors/checkpoint_connector.py:145: `.test(ckpt_path=None)` was called without a model. The best model of the previous `fit` call will be used. You can pass `.test(ckpt_path='best')` to use the best model or `.test(ckpt_path='last')` to use the last model. If you pass a value, this warning will be silenced.\n"
     ]
    },
    {
     "name": "stdout",
     "output_type": "stream",
     "text": [
      "Files already downloaded and verified\n",
      "Files already downloaded and verified\n"
     ]
    },
    {
     "name": "stderr",
     "output_type": "stream",
     "text": [
      "Restoring states from the checkpoint path at /Users/karthajee/Documents/0_projects/ERAV2/ERAV2assignments/Session 13 - PyTorch Lightning, Fabrik, and Spaces/lightning_logs/version_2/checkpoints/epoch=19-step=1554.ckpt\n",
      "Loaded model weights from the checkpoint at /Users/karthajee/Documents/0_projects/ERAV2/ERAV2assignments/Session 13 - PyTorch Lightning, Fabrik, and Spaces/lightning_logs/version_2/checkpoints/epoch=19-step=1554.ckpt\n"
     ]
    },
    {
     "data": {
      "application/vnd.jupyter.widget-view+json": {
       "model_id": "c0583e63520943ae87ac0b8c64140bb2",
       "version_major": 2,
       "version_minor": 0
      },
      "text/plain": [
       "Testing: |          | 0/? [00:00<?, ?it/s]"
      ]
     },
     "metadata": {},
     "output_type": "display_data"
    },
    {
     "name": "stdout",
     "output_type": "stream",
     "text": [
      "────────────────────────────────────────────────────────────────────────────────────────────────────────────────────────\n",
      "       Test metric             DataLoader 0\n",
      "────────────────────────────────────────────────────────────────────────────────────────────────────────────────────────\n",
      "      test_acc_step         0.8281000256538391\n",
      "     test_loss_step         0.5347569584846497\n",
      "────────────────────────────────────────────────────────────────────────────────────────────────────────────────────────\n"
     ]
    },
    {
     "data": {
      "text/plain": [
       "[{'test_loss_step': 0.5347569584846497, 'test_acc_step': 0.8281000256538391}]"
      ]
     },
     "execution_count": 6,
     "metadata": {},
     "output_type": "execute_result"
    }
   ],
   "source": [
    "trainer.test()"
   ]
  },
  {
   "cell_type": "markdown",
   "metadata": {},
   "source": [
    "# Load from Checkpoint"
   ]
  },
  {
   "cell_type": "code",
   "execution_count": 5,
   "metadata": {},
   "outputs": [],
   "source": [
    "CKPT_DIR = \"lightning_logs/version_2/checkpoints/epoch=19-step=1554.ckpt\"\n",
    "model_kwargs = dict(block=BasicBlock, num_blocks=[2, 2, 2, 2])\n",
    "model = LitResnet.load_from_checkpoint(CKPT_DIR, **model_kwargs)"
   ]
  },
  {
   "cell_type": "markdown",
   "metadata": {},
   "source": [
    "# Misclassified Images"
   ]
  },
  {
   "cell_type": "code",
   "execution_count": 6,
   "metadata": {},
   "outputs": [],
   "source": [
    "cifar10_data_module = CIFAR10Module()\n",
    "cifar10_data_module.setup()\n",
    "cifar10_data_module.setup(stage='test')"
   ]
  },
  {
   "cell_type": "code",
   "execution_count": 7,
   "metadata": {},
   "outputs": [
    {
     "name": "stderr",
     "output_type": "stream",
     "text": [
      "/Users/karthajee/Documents/0_projects/ERAV2/ERAV2assignments/Session 13 - PyTorch Lightning, Fabrik, and Spaces/erav2master/utils.py:114: UserWarning: FigureCanvasAgg is non-interactive, and thus cannot be shown\n",
      "  fig.show()\n"
     ]
    },
    {
     "data": {
      "image/png": "[encoded data removed]",
      "text/plain": [
       "<Figure size 1500x800 with 10 Axes>"
      ]
     },
     "metadata": {},
     "output_type": "display_data"
    }
   ],
   "source": [
    "cifar10_classes = ('airplane', 'automobile', 'bird', 'cat', 'deer', 'dog', 'frog', 'horse', 'ship', 'truck')\n",
    "misclassified = get_misclassified_images(model, cifar10_data_module.test_dataloader(), cifar10_classes, get_device())"
   ]
  },
  {
   "cell_type": "code",
   "execution_count": 8,
   "metadata": {},
   "outputs": [
    {
     "data": {
      "text/plain": [
       "10"
      ]
     },
     "execution_count": 8,
     "metadata": {},
     "output_type": "execute_result"
    }
   ],
   "source": [
    "len(misclassified['img_numpy'])"
   ]
  },
  {
   "cell_type": "code",
   "execution_count": 10,
   "metadata": {},
   "outputs": [],
   "source": [
    "for i, img in enumerate(misclassified['img_numpy']):\n",
    "    true = cifar10_classes[misclassified['y_true'][i]]\n",
    "    pred = cifar10_classes[misclassified['y_pred'][i]]\n",
    "    filename = f'{i}_true_{true}_pred_{pred}.png'\n",
    "    export_cifar_image(img, filename=filename)"
   ]
  },
  {
   "cell_type": "markdown",
   "metadata": {},
   "source": [
    "# Gradio App"
   ]
  },
  {
   "cell_type": "markdown",
   "metadata": {},
   "source": [
    "Your spaces app has these features:\n",
    "- ask the user whether he/she wants to see GradCAM images and how many, and from which layer, allow opacity change as well\n",
    "- ask whether he/she wants to view misclassified images, and how many\n",
    "- allow users to upload new images, as well as provide 10 example images\n",
    "- ask how many top classes are to be shown (make sure the user cannot enter more than 10)"
   ]
  },
  {
   "cell_type": "code",
   "execution_count": 25,
   "metadata": {},
   "outputs": [
    {
     "name": "stdout",
     "output_type": "stream",
     "text": [
      "Running on local URL:  http://127.0.0.1:7866\n",
      "\n",
      "To create a public link, set `share=True` in `launch()`.\n"
     ]
    },
    {
     "data": {
      "text/html": [
       "<div><iframe src=\"http://127.0.0.1:7866/\" width=\"100%\" height=\"500\" allow=\"autoplay; camera; microphone; clipboard-read; clipboard-write;\" frameborder=\"0\" allowfullscreen></iframe></div>"
      ],
      "text/plain": [
       "<IPython.core.display.HTML object>"
      ]
     },
     "metadata": {},
     "output_type": "display_data"
    },
    {
     "data": {
      "text/plain": []
     },
     "execution_count": 25,
     "metadata": {},
     "output_type": "execute_result"
    }
   ],
   "source": [
    "from PIL import Image\n",
    "def resize_image_pil(image, new_width, new_height):\n",
    "\n",
    "    # Convert to PIL image\n",
    "    img = Image.fromarray(np.array(image))\n",
    "    \n",
    "    # Get original size\n",
    "    width, height = img.size\n",
    "\n",
    "    # Calculate scale\n",
    "    width_scale = new_width / width\n",
    "    height_scale = new_height / height \n",
    "    scale = min(width_scale, height_scale)\n",
    "\n",
    "    # Resize\n",
    "    resized = img.resize((int(width*scale), int(height*scale)), Image.NEAREST)\n",
    "    \n",
    "    # Crop to exact size\n",
    "    resized = resized.crop((0, 0, new_width, new_height))\n",
    "\n",
    "    return resized\n",
    "\n",
    "def display_misclassified(num_images):\n",
    "    img_folder = Path('misclassified')\n",
    "    gallery_l = []\n",
    "    i = 0    \n",
    "    for img_path in img_folder.rglob('*.png'):\n",
    "        if i >= int(num_images):\n",
    "            break\n",
    "        img = Image.open(img_path)\n",
    "        img = resize_image_pil(img, 64, 64)\n",
    "        a = str(img_path.stem).split('_')[1:]\n",
    "        caption = f'True: {a[1]}\\nPred: {a[3]}'\n",
    "        gallery_l.append((img, caption))\n",
    "        i += 1\n",
    "    return gallery_l\n",
    "display_misclassified(5)\n",
    "\n",
    "iface = gr.Interface(\n",
    "    display_misclassified,\n",
    "    inputs=gr.Slider(0, 10, value=0, step=1, label=\"Number\"),\n",
    "    outputs=gr.Gallery(label='Misclassified Images', columns=4, height='auto')\n",
    ")\n",
    "iface.launch()"
   ]
  },
  {
   "cell_type": "code",
   "execution_count": 17,
   "metadata": {},
   "outputs": [],
   "source": [
    "import gradio as gr"
   ]
  },
  {
   "cell_type": "code",
   "execution_count": null,
   "metadata": {},
   "outputs": [],
   "source": [
    "def inference():\n",
    "    pass\n",
    "    \n",
    "inf_iface = gr.Interface(\n",
    "    inference,\n",
    "    inputs=[],\n",
    "    outputs=[],\n",
    "    examples=[]\n",
    ")"
   ]
  },
  {
   "cell_type": "code",
   "execution_count": null,
   "metadata": {},
   "outputs": [],
   "source": [
    "import gradio as gr\n",
    "import torch\n",
    "from torchvision import transforms\n",
    "from PIL import Image\n",
    "\n",
    "# Load your PyTorch model\n",
    "model = torch.load('path_to_your_model.pth')\n",
    "model.eval()\n",
    "\n",
    "# Define necessary transformations for the input images\n",
    "transform = transforms.Compose([\n",
    "    transforms.Resize((256, 256)),\n",
    "    transforms.ToTensor(),\n",
    "])\n",
    "\n",
    "def simulate_gradcam(image, layer, opacity):\n",
    "    # This should generate a GradCAM overlay\n",
    "    # For now, just return the original image\n",
    "    return image\n",
    "\n",
    "def show_misclassified_images(num_images):\n",
    "    # This should return a list of misclassified images\n",
    "    # For now, return a list of dummy images\n",
    "    return [Image.new('RGB', (256, 256), (i * 50 % 255, 255, 128)) for i in range(num_images)]\n",
    "\n",
    "# Prediction and processing function\n",
    "def predict(image, top_k, gradcam_enabled, gradcam_layer, gradcam_opacity, show_misclassified, num_misclassified):\n",
    "    image = transform(Image.fromarray(image.astype('uint8'))).unsqueeze(0)\n",
    "    output = model(image)\n",
    "    probabilities = torch.nn.functional.softmax(output, dim=1)\n",
    "    top_probs, top_classes = probabilities.topk(top_k)\n",
    "\n",
    "    results = {\n",
    "        \"Top Predictions\": top_classes.flatten().tolist(),\n",
    "        \"Probabilities\": top_probs.flatten().tolist(),\n",
    "    }\n",
    "    \n",
    "    additional_outputs = {}\n",
    "    \n",
    "    if gradcam_enabled:\n",
    "        gradcam_image = simulate_gradcam(image, gradcam_layer, gradcam_opacity)\n",
    "        additional_outputs[\"GradCAM Output\"] = gradcam_image\n",
    "    \n",
    "    if show_misclassified:\n",
    "        misclassified_images = show_misclassified_images(num_misclassified)\n",
    "        additional_outputs[\"Misclassified Images\"] = misclassified_images\n",
    "    \n",
    "    return results, additional_outputs\n",
    "\n",
    "# Gradio interface setup\n",
    "iface = gr.Interface(\n",
    "    fn=predict,\n",
    "    inputs=[\n",
    "        gr.inputs.Image(shape=(256, 256)),\n",
    "        gr.inputs.Number(label=\"Number of top classes\", default=5, maximum=10),\n",
    "        gr.inputs.Checkbox(label=\"Enable GradCAM\", elem_id=\"gradcam_checkbox\"),\n",
    "        gr.inputs.Dropdown(choices=['layer1', 'layer2', 'layer3'], label=\"Select GradCAM Layer\", elem_id=\"gradcam_layer_dropdown\"),\n",
    "        gr.inputs.Slider(minimum=0, maximum=1, step=0.1, default=0.5, label=\"GradCAM Opacity\", elem_id=\"gradcam_opacity_slider\"),\n",
    "        gr.inputs.Checkbox(label=\"Show Misclassified Images\", elem_id=\"misclassified_checkbox\"),\n",
    "        gr.inputs.Number(label=\"Number of Misclassified Images\", default=5, elem_id=\"misclassified_number\"),\n",
    "    ],\n",
    "    outputs=[\n",
    "        gr.outputs.Label(num_top_classes=10),\n",
    "        gr.outputs.Image(label=\"GradCAM Output\", id='gradcam_output', visible=False),\n",
    "        gr.outputs.Gallery(label=\"Misclassified Images\", id='misclassified_gallery', visible=False)\n",
    "    ],\n",
    "    examples=[\n",
    "        # Paths to 10 example images\n",
    "    ],\n",
    "    js=\"\"\"\n",
    "    function(_, __, gradcam_enabled, ___, ____, misclassified_enabled, _____) {\n",
    "        document.getElementById('gradcam_layer_dropdown').disabled = !gradcam_enabled;\n",
    "        document.getElementById('gradcam_opacity_slider').disabled = !gradcam_enabled;\n",
    "        document.getElementById('misclassified_number').disabled = !misclassified_enabled;\n",
    "        return {\n",
    "            'gradcam_output': gradcam_enabled,\n",
    "            'misclassified_gallery': misclassified_enabled\n",
    "        };        \n",
    "    }\n",
    "    \"\"\"\n",
    ")\n",
    "\n",
    "iface.launch()"
   ]
  }
 ],
 "metadata": {
  "kernelspec": {
   "display_name": "erav2",
   "language": "python",
   "name": "python3"
  },
  "language_info": {
   "codemirror_mode": {
    "name": "ipython",
    "version": 3
   },
   "file_extension": ".py",
   "mimetype": "text/x-python",
   "name": "python",
   "nbconvert_exporter": "python",
   "pygments_lexer": "ipython3",
   "version": "3.10.14"
  }
 },
 "nbformat": 4,
 "nbformat_minor": 2
}
